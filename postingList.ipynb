{
 "cells": [
  {
   "cell_type": "code",
   "execution_count": 64,
   "id": "334f94ca",
   "metadata": {},
   "outputs": [
    {
     "name": "stdout",
     "output_type": "stream",
     "text": [
      ">>>>>>###\n",
      "julius caesar summary jealous conspirators convince caesar's friend brutus to join their murder plot against caesar. to stop caesar from gaining too much power, brutus and the conspirators kill him on the ides of march. mark antony drives the conspirators out of rome and fights them in a battle. brutus and his friend cassius lose and kill themselves, leaving antony to rule in rome. more detail: 2 minute read act i the tribunes of rome, marullus and flavius, break up a gathering of citizens who want to celebrate julius caesar's triumphant return from war. the victory is marked by public games in which caesar's protã©gã©, mark antony, takes part. on his way to the arena, caesar is stopped by a stranger who warns him that he should 'beware the ides [15th] of march.' \n",
      "file1.txt conspirators suspects\n",
      ">>>>>>###\n",
      "julius caesar summary jealous suspects convince caesar's friend brutus to join their murder plot against caesar. to stop caesar from gaining too much power, brutus and the suspects kill him on the ides of march. mark antony drives the suspects out of rome and fights them in a battle. brutus and his friend cassius lose and kill themselves, leaving antony to rule in rome. more detail: 2 minute read act i the tribunes of rome, marullus and flavius, break up a gathering of citizens who want to celebrate julius caesar's triumphant return from war. the victory is marked by public games in which caesar's protã©gã©, mark antony, takes part. on his way to the arena, caesar is stopped by a stranger who warns him that he should 'beware the ides [15th] of march.' \n"
     ]
    }
   ],
   "source": [
    "import os\n",
    "import re\n",
    "\n",
    "def replaceWordInFile(filename,word,rep):\n",
    "    print(filename,word,rep)\n",
    "    ff = open(filename,'r+')\n",
    "\n",
    "    txxt = ff.read().lower()\n",
    "\n",
    "    ntxt = \"\"\n",
    "\n",
    "    for x in txxt.split():\n",
    "        if x.strip() == word:\n",
    "            ntxt+=rep+\" \"\n",
    "        else : ntxt+=x+\" \"\n",
    "        \n",
    "    ff.close()\n",
    "    ff = open(filename,'w')\n",
    "    ff.write(ntxt)\n",
    "    ff.close()\n",
    "\n",
    "    \n",
    "\"\"\" Main/Driver Function\"\"\"\n",
    "#----------------------------------------------------------------------\n",
    "\n",
    "\n",
    "folder = 'Z:\\SEM5\\IR-LAB\\Documents'\n",
    "os.chdir(folder)\n",
    "\n",
    "fl = 'file1.txt'\n",
    "word = 'conspirators'\n",
    "rep = 'suspects'\n",
    "\n",
    "ff = open(fl,'r')\n",
    "\n",
    "print(\">>>>>>###\")\n",
    "print(ff.read())\n",
    "\n",
    "replaceWordInFile(fl,word,rep)\n",
    "\n",
    "ff = open(fl,'r')\n",
    "\n",
    "print(\">>>>>>###\")\n",
    "print(ff.read())\n",
    "\n",
    "\n",
    "\n",
    "\n",
    "    \n",
    "    "
   ]
  },
  {
   "cell_type": "code",
   "execution_count": 57,
   "id": "08072300",
   "metadata": {},
   "outputs": [
    {
     "name": "stdout",
     "output_type": "stream",
     "text": [
      "\n",
      ">>>> file1.txt Opened\n",
      "\n",
      "\n",
      ">>>> file2.txt Opened\n",
      "\n",
      "\n",
      ">>>> file3.txt Opened\n",
      "\n",
      "\n",
      ">>>> file4.txt Opened\n",
      "\n",
      "\n",
      ">>>> file5.txt Opened\n",
      "\n",
      "{'brutus': ['file1.txt', 'file2.txt', 'file2.txt', 'file4.txt', 'file5.txt'], 'caesar': ['file1.txt', 'file2.txt', 'file2.txt', 'file3.txt'], 'assassination': ['file5.txt'], 'murder': ['file1.txt']}\n"
     ]
    }
   ],
   "source": [
    "import os\n",
    "\n",
    "folder = 'Z:\\SEM5\\IR-LAB\\Documents'\n",
    "os.chdir(folder)\n",
    "pstlist = {\n",
    "    'brutus':[],\n",
    "    'caesar':[],\n",
    "    'assassination':[],\n",
    "    'murder':[]\n",
    "}\n",
    "\n",
    "for i in os.listdir():\n",
    "    ff = open(i,'r')\n",
    "    print(\"\\n>>>>\",i,\"Opened\\n\")\n",
    "    for j in ff:\n",
    "        jl = set(j.lower().split())\n",
    "        jl = list(jl)\n",
    "        for w in jl:\n",
    "            for j in pstlist:\n",
    "                if(w == j):\n",
    "                    pstlist[j].append(i)\n",
    "    ff.close()\n",
    "\n",
    "print(pstlist)"
   ]
  },
  {
   "cell_type": "code",
   "execution_count": 62,
   "id": "648bcf3d",
   "metadata": {},
   "outputs": [
    {
     "name": "stdout",
     "output_type": "stream",
     "text": [
      "Word to search: mUrDer\n",
      "['file1.txt']\n"
     ]
    }
   ],
   "source": [
    "#QUERIES\n",
    "\n",
    "f = input('Word to search: ').lower()\n",
    "\n",
    "if f in pstlist:\n",
    "    print(pstlist[f])\n",
    "else : print('Not available')"
   ]
  }
 ],
 "metadata": {
  "kernelspec": {
   "display_name": "Python 3 (ipykernel)",
   "language": "python",
   "name": "python3"
  },
  "language_info": {
   "codemirror_mode": {
    "name": "ipython",
    "version": 3
   },
   "file_extension": ".py",
   "mimetype": "text/x-python",
   "name": "python",
   "nbconvert_exporter": "python",
   "pygments_lexer": "ipython3",
   "version": "3.9.7"
  }
 },
 "nbformat": 4,
 "nbformat_minor": 5
}
