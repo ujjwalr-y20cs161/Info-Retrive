{
 "cells": [
  {
   "cell_type": "code",
   "execution_count": 12,
   "id": "334f94ca",
   "metadata": {},
   "outputs": [
    {
     "name": "stdout",
     "output_type": "stream",
     "text": [
      "[] []\n"
     ]
    }
   ],
   "source": [
    "import os\n",
    "import re\n",
    "\n",
    "folder = 'Z:\\SEM5\\IR-LAB\\Documents'\n",
    "os.chdir(folder)\n",
    "\n",
    "w = ['brutus','caesar']\n",
    "b = []\n",
    "c = []\n",
    "for i in os.listdir():\n",
    "    ff = open(i,'r')\n",
    "    br = False\n",
    "    cs = False\n",
    "    for l in ff:\n",
    "        ll = l.lower().split()\n",
    "#         print(ll)\n",
    "        for j in ll:\n",
    "            if j in w:\n",
    "                pres = True\n",
    "\n",
    "    if br == True:\n",
    "        b.append(i)\n",
    "    if cs == True:\n",
    "        c.append(i)\n",
    "\n",
    "print(b,c)\n",
    "    "
   ]
  }
 ],
 "metadata": {
  "kernelspec": {
   "display_name": "Python 3 (ipykernel)",
   "language": "python",
   "name": "python3"
  },
  "language_info": {
   "codemirror_mode": {
    "name": "ipython",
    "version": 3
   },
   "file_extension": ".py",
   "mimetype": "text/x-python",
   "name": "python",
   "nbconvert_exporter": "python",
   "pygments_lexer": "ipython3",
   "version": "3.9.7"
  }
 },
 "nbformat": 4,
 "nbformat_minor": 5
}
